{
  "nbformat": 4,
  "nbformat_minor": 0,
  "metadata": {
    "colab": {
      "name": "language_model.ipynb",
      "provenance": [],
      "collapsed_sections": []
    },
    "kernelspec": {
      "name": "python3",
      "display_name": "Python 3"
    },
    "accelerator": "GPU"
  },
  "cells": [
    {
      "cell_type": "code",
      "metadata": {
        "id": "yTA7r-UtLIkk",
        "colab_type": "code",
        "colab": {
          "base_uri": "https://localhost:8080/",
          "height": 124
        },
        "outputId": "0af0cb80-b14b-45c7-8659-c62051060fa1"
      },
      "source": [
        "from google.colab import drive\n",
        "drive.mount('/content/drive')"
      ],
      "execution_count": 1,
      "outputs": [
        {
          "output_type": "stream",
          "text": [
            "Go to this URL in a browser: https://accounts.google.com/o/oauth2/auth?client_id=947318989803-6bn6qk8qdgf4n4g3pfee6491hc0brc4i.apps.googleusercontent.com&redirect_uri=urn%3aietf%3awg%3aoauth%3a2.0%3aoob&response_type=code&scope=email%20https%3a%2f%2fwww.googleapis.com%2fauth%2fdocs.test%20https%3a%2f%2fwww.googleapis.com%2fauth%2fdrive%20https%3a%2f%2fwww.googleapis.com%2fauth%2fdrive.photos.readonly%20https%3a%2f%2fwww.googleapis.com%2fauth%2fpeopleapi.readonly\n",
            "\n",
            "Enter your authorization code:\n",
            "··········\n",
            "Mounted at /content/drive\n"
          ],
          "name": "stdout"
        }
      ]
    },
    {
      "cell_type": "code",
      "metadata": {
        "id": "hgjoDE-OJRgI",
        "colab_type": "code",
        "colab": {}
      },
      "source": [
        "from fastai.text import *\n",
        "\n",
        "path = \"/content/drive/My Drive/DATA-475/imdb\""
      ],
      "execution_count": 2,
      "outputs": []
    },
    {
      "cell_type": "code",
      "metadata": {
        "id": "Ng9a7n9kste4",
        "colab_type": "code",
        "colab": {
          "base_uri": "https://localhost:8080/",
          "height": 17
        },
        "outputId": "5f5987e4-41bb-42e9-96d0-31330384975c"
      },
      "source": [
        "# create TextLMDataBunch using the csv in path\n",
        "#     remember to specify the text column\n",
        "data_lm = TextLMDataBunch.from_csv(\n",
        "    path,\n",
        "    \"train.csv\",\n",
        "    text_cols=\"review\"\n",
        ")"
      ],
      "execution_count": 3,
      "outputs": [
        {
          "output_type": "display_data",
          "data": {
            "text/html": [
              ""
            ],
            "text/plain": [
              "<IPython.core.display.HTML object>"
            ]
          },
          "metadata": {
            "tags": []
          }
        },
        {
          "output_type": "display_data",
          "data": {
            "text/html": [
              ""
            ],
            "text/plain": [
              "<IPython.core.display.HTML object>"
            ]
          },
          "metadata": {
            "tags": []
          }
        }
      ]
    },
    {
      "cell_type": "code",
      "metadata": {
        "id": "NCVGVEOWsS_G",
        "colab_type": "code",
        "colab": {
          "base_uri": "https://localhost:8080/",
          "height": 17
        },
        "outputId": "3428e7bd-6e93-46c2-d0ce-5ab58661aaae"
      },
      "source": [
        "# create TextClasDataBunch using the csv in path\n",
        "#     remember to specify the text/label column\n",
        "#     specify test dataset, vocab, and bs\n",
        "data_clas = TextClasDataBunch.from_csv(\n",
        "    path,\n",
        "    \"train.csv\",\n",
        "    test=\"test.csv\",\n",
        "    text_cols=\"review\",\n",
        "    label_cols=\"sentiment\",\n",
        "    vocab=data_lm.train_ds.vocab,\n",
        "    bs=32\n",
        ")"
      ],
      "execution_count": 4,
      "outputs": [
        {
          "output_type": "display_data",
          "data": {
            "text/html": [
              ""
            ],
            "text/plain": [
              "<IPython.core.display.HTML object>"
            ]
          },
          "metadata": {
            "tags": []
          }
        },
        {
          "output_type": "display_data",
          "data": {
            "text/html": [
              ""
            ],
            "text/plain": [
              "<IPython.core.display.HTML object>"
            ]
          },
          "metadata": {
            "tags": []
          }
        },
        {
          "output_type": "display_data",
          "data": {
            "text/html": [
              ""
            ],
            "text/plain": [
              "<IPython.core.display.HTML object>"
            ]
          },
          "metadata": {
            "tags": []
          }
        }
      ]
    },
    {
      "cell_type": "code",
      "metadata": {
        "id": "WcrrDK7-aT0v",
        "colab_type": "code",
        "colab": {
          "base_uri": "https://localhost:8080/",
          "height": 35
        },
        "outputId": "a03893d9-8b74-40ea-a435-b9c1331176db"
      },
      "source": [
        "# create language model learner with AWD_LSTM architecture and drop_mult of 0.5\n",
        "lm_learner = language_model_learner(data_lm,arch=AWD_LSTM,drop_mult=0.5)"
      ],
      "execution_count": 5,
      "outputs": [
        {
          "output_type": "stream",
          "text": [
            "Downloading https://s3.amazonaws.com/fast-ai-modelzoo/wt103-fwd.tgz\n"
          ],
          "name": "stdout"
        },
        {
          "output_type": "display_data",
          "data": {
            "text/html": [
              ""
            ],
            "text/plain": [
              "<IPython.core.display.HTML object>"
            ]
          },
          "metadata": {
            "tags": []
          }
        }
      ]
    },
    {
      "cell_type": "code",
      "metadata": {
        "id": "XnMFnhvZVM8k",
        "colab_type": "code",
        "colab": {
          "base_uri": "https://localhost:8080/",
          "height": 411
        },
        "outputId": "3307e10e-a3c4-4157-d600-75f50cdbab8a"
      },
      "source": [
        "# find a learing rate\n",
        "lm_learner.lr_find()\n",
        "lm_learner.recorder.plot(suggestion=True)"
      ],
      "execution_count": 6,
      "outputs": [
        {
          "output_type": "display_data",
          "data": {
            "text/html": [
              "\n",
              "    <div>\n",
              "        <style>\n",
              "            /* Turns off some styling */\n",
              "            progress {\n",
              "                /* gets rid of default border in Firefox and Opera. */\n",
              "                border: none;\n",
              "                /* Needs to be in here for Safari polyfill so background images work as expected. */\n",
              "                background-size: auto;\n",
              "            }\n",
              "            .progress-bar-interrupted, .progress-bar-interrupted::-webkit-progress-bar {\n",
              "                background: #F44336;\n",
              "            }\n",
              "        </style>\n",
              "      <progress value='0' class='' max='1' style='width:300px; height:20px; vertical-align: middle;'></progress>\n",
              "      0.00% [0/1 00:00<00:00]\n",
              "    </div>\n",
              "    \n",
              "<table border=\"1\" class=\"dataframe\">\n",
              "  <thead>\n",
              "    <tr style=\"text-align: left;\">\n",
              "      <th>epoch</th>\n",
              "      <th>train_loss</th>\n",
              "      <th>valid_loss</th>\n",
              "      <th>accuracy</th>\n",
              "      <th>time</th>\n",
              "    </tr>\n",
              "  </thead>\n",
              "  <tbody>\n",
              "  </tbody>\n",
              "</table><p>\n",
              "\n",
              "    <div>\n",
              "        <style>\n",
              "            /* Turns off some styling */\n",
              "            progress {\n",
              "                /* gets rid of default border in Firefox and Opera. */\n",
              "                border: none;\n",
              "                /* Needs to be in here for Safari polyfill so background images work as expected. */\n",
              "                background-size: auto;\n",
              "            }\n",
              "            .progress-bar-interrupted, .progress-bar-interrupted::-webkit-progress-bar {\n",
              "                background: #F44336;\n",
              "            }\n",
              "        </style>\n",
              "      <progress value='99' class='' max='1334' style='width:300px; height:20px; vertical-align: middle;'></progress>\n",
              "      7.42% [99/1334 00:17<03:44 11.7499]\n",
              "    </div>\n",
              "    "
            ],
            "text/plain": [
              "<IPython.core.display.HTML object>"
            ]
          },
          "metadata": {
            "tags": []
          }
        },
        {
          "output_type": "stream",
          "text": [
            "LR Finder is complete, type {learner_name}.recorder.plot() to see the graph.\n",
            "Min numerical gradient: 5.75E-06\n",
            "Min loss divided by 10: 5.75E-03\n"
          ],
          "name": "stdout"
        },
        {
          "output_type": "display_data",
          "data": {
            "image/png": "[encoded data removed]",
            "text/plain": [
              "<Figure size 432x288 with 1 Axes>"
            ]
          },
          "metadata": {
            "tags": [],
            "needs_background": "light"
          }
        }
      ]
    },
    {
      "cell_type": "code",
      "metadata": {
        "id": "B9DZ8FALAw7r",
        "colab_type": "code",
        "colab": {
          "base_uri": "https://localhost:8080/",
          "height": 110
        },
        "outputId": "e5b4a900-1232-421f-e2c9-c8ec086f448f"
      },
      "source": [
        "# fit one cycle\n",
        "lr = lm_learner.recorder.min_grad_lr\n",
        "lm_learner.fit_one_cycle(2, lr)"
      ],
      "execution_count": 7,
      "outputs": [
        {
          "output_type": "display_data",
          "data": {
            "text/html": [
              "<table border=\"1\" class=\"dataframe\">\n",
              "  <thead>\n",
              "    <tr style=\"text-align: left;\">\n",
              "      <th>epoch</th>\n",
              "      <th>train_loss</th>\n",
              "      <th>valid_loss</th>\n",
              "      <th>accuracy</th>\n",
              "      <th>time</th>\n",
              "    </tr>\n",
              "  </thead>\n",
              "  <tbody>\n",
              "    <tr>\n",
              "      <td>0</td>\n",
              "      <td>4.668821</td>\n",
              "      <td>4.465458</td>\n",
              "      <td>0.263642</td>\n",
              "      <td>04:21</td>\n",
              "    </tr>\n",
              "    <tr>\n",
              "      <td>1</td>\n",
              "      <td>4.668672</td>\n",
              "      <td>4.455417</td>\n",
              "      <td>0.264222</td>\n",
              "      <td>04:21</td>\n",
              "    </tr>\n",
              "  </tbody>\n",
              "</table>"
            ],
            "text/plain": [
              "<IPython.core.display.HTML object>"
            ]
          },
          "metadata": {
            "tags": []
          }
        }
      ]
    },
    {
      "cell_type": "code",
      "metadata": {
        "id": "3ZIbQuXSKS5V",
        "colab_type": "code",
        "colab": {}
      },
      "source": [
        "# save the encoder\n",
        "lm_learner.save_encoder(\"model\")"
      ],
      "execution_count": 8,
      "outputs": []
    },
    {
      "cell_type": "code",
      "metadata": {
        "id": "OFGrAyvQvXLH",
        "colab_type": "code",
        "colab": {
          "base_uri": "https://localhost:8080/",
          "height": 53
        },
        "outputId": "43624d4f-66c2-411e-c822-c795ec794111"
      },
      "source": [
        "lm_learner.predict(\"this movie talks about Canadian\", n_words=20)"
      ],
      "execution_count": 9,
      "outputs": [
        {
          "output_type": "execute_result",
          "data": {
            "application/vnd.google.colaboratory.intrinsic+json": {
              "type": "string"
            },
            "text/plain": [
              "'this movie talks about Canadian men in the context of their diplomatic roles and their relationship , which it attributes to their studies being held'"
            ]
          },
          "metadata": {
            "tags": []
          },
          "execution_count": 9
        }
      ]
    },
    {
      "cell_type": "code",
      "metadata": {
        "id": "p-Jv0yyyJWmN",
        "colab_type": "code",
        "colab": {
          "base_uri": "https://localhost:8080/",
          "height": 1000
        },
        "outputId": "3bfd4336-b632-4664-8d93-2238fe64fd29"
      },
      "source": [
        "clas_learner = text_classifier_learner(data_clas, arch=AWD_LSTM, drop_mult=0.5)\n",
        "clas_learner.load_encoder(\"model\")"
      ],
      "execution_count": 10,
      "outputs": [
        {
          "output_type": "execute_result",
          "data": {
            "text/plain": [
              "RNNLearner(data=TextClasDataBunch;\n",
              "\n",
              "Train: LabelList (19999 items)\n",
              "x: TextList\n",
              "xxbos i mistakenly kept myself awake late last night watching this thing . xxmaj about the only thing i could say good about this horrid film is that it could be used by film schools to show how not to make a movie . xxmaj no proper character development , wait , i 'm not even sure they were characters . xxmaj set - ups were hokey and inane , and the overuse of split screens was wasted since sometimes they could n't even synchronize with alternate shots . xxmaj if i could give this a zero or minus rating i would . xxmaj sadly , it is n't even worth the time for a few laughs . xxmaj it 's just a sad example of money wasted by xxmaj hollywood , and now i waste my time even thinking about it .,xxbos i watched this film without knowing anything about it whatsoever and found it similar thematically to xxmaj billy xxmaj elliott ( 2000 ) . xxmaj both films are based around a troubled father / son relationship . xxmaj in both films , the son does not want to follow his father down the mines and dreams of a better life away from their home town . xxmaj both sons face derision by their classmates and both have a strong female role model who teaches them . xxmaj the major difference that i found between the films was that xxmaj october xxmaj sky was an infinitely more interesting and touching film . xxmaj laura xxmaj dern puts in a moving performance and xxmaj chris xxmaj cooper plays the disapproving father very well as he went on to do in xxmaj american xxmaj beauty ( 1999 ) . xxmaj joe xxmaj johnston surprised me with his subtle directing , very different from his other directorial features such as xxmaj jumanji ( 1995 ) and xxmaj jurassic xxmaj park xxup iii ( 2001 ) .,xxbos xxmaj this has to be one of the worst movies of all time . xxmaj the graphics were horrendous , the acting was b - movie and the effects were just plain xxmaj nintendo 64 qualified . xxmaj you would think that they would put a little more effort into it . xxmaj of course , it is a xxmaj scifi channel movie so you have to expect it to be low rate , but this one takes the cake . xxmaj hell , i 'm still laughing . xxmaj so , as a shake - your - head in disbelief movie , this one does well . xxmaj although it appears to have some ' known ' actors and actresses in this , it is difficult for me to believe that they did not realize that the quality of this movie was worth their time and effort . xxmaj the graphics might have been good in the ' 60 's or even early ' 70 's but come on , this is 2009 ! i wo nt give spoilers out , let 's just say that if you have played \" xxmaj jurassic xxmaj park \" on the xxmaj nintendo 64 you will be very familiar with what you see in this xxunk is definitely not worth the 2 hours it took to sit through the thing,xxbos xxmaj avoid this one , unless you want to watch an expensive but badly made movie . xxmaj example ? xxmaj the sound is good but the dialogue is not clear - a cardinal sin in a xxmaj french film . xxmaj this film attempts to combine western , drug intrigue and xxunk regime costume epic . xxmaj what ? xxmaj well , consider this . xxmaj the cowboy music is hilarious during sword fights . xxmaj or how about the woman in her underwear , holding a knife and jumping up and down on the xxunk should do a ' xxmaj what 's xxmaj up xxmaj tiger xxmaj lily ' on this bomb . xxmaj rewrite the script and then either dub or subtitle it . xxmaj heck , it 's almost that now . ( xxup btw , xxmaj gerard xxmaj depardieu and xxmaj carole xxmaj bouquet , both known to xxmaj american audiences , have roles . ),xxbos xxmaj this movie fails to offer anything new to a genre that has traditionally shown the cross cultural love story underpinned by the politics mid 20th century / pre - xxup wwii xxmaj india , where the xxmaj british and their modern ways are bad and the primitive but honest and true xxmaj indians are good . xxmaj surely such clichéd depictions of the xxmaj british are rather passé now . xxmaj apart from the drama that fuels the second part of the movie the narrative is predictable , the acting is pedestrian and two - dimensional , and the directing obvious and unimaginative . xxmaj the story really needed to be fleshed out and would certainly have benefited from another half an hour of screen time to give the characters and narrative more depth and give the viewer something to feel some investment in . xxmaj all in all , rather uninspiring . xxmaj oh and xxmaj linus xxmaj xxunk just can not do tragedy - going cross - eyed with emotional pain just does n't work for me !\n",
              "y: CategoryList\n",
              "negative,positive,negative,negative,negative\n",
              "Path: /content/drive/My Drive/DATA-475/imdb;\n",
              "\n",
              "Valid: LabelList (5001 items)\n",
              "x: TextList\n",
              "xxbos xxmaj now , i flicked onto this just out of curiosity and had to keep watching - in the same way that you watch a car crash ... i appreciate the fact it 's a spoof , but that should not stop me from criticising the god - awful directing , acting and dialogue . xxmaj seriously , this rated as one of the poorest movies i have seen - it looked more like an episode of xxmaj tales from the xxmaj cryptkeeper , and a poor one at that ... xxmaj okay - a few criticisms ( 1 ) when the doctor had his heart attack in front of the monster ( we never see the monster attack him , so we assume its a heart attack ) , the army then launch shells , rockets , bullets at the monster - which was feet from the doctor - yet the doctor is not touched by any missile and is still alive ( 2 ) the army attack from about 100 yards away , and we see a flame - thrower being used - geez , those things have a range of no more than 30 xxunk ! ( 3 ) when the monster tries to take the professor , the soldiers run into the classroom and fire into the ceiling ; the monster drops the kid , and the soldiers do n't try to shoot the monster ? ? ? come on ! ( 4 ) the monster looks like it something out of xxmaj power xxmaj rangers ! ( 5 ) there is one scene where the five \" good guys \" ( the priest , the girl , the doctor , the reporter and the kid ) all look shocked and we get reactions ( along the lines of hand to mouth ) one after the other - so natural ! ( 6 ) the general just runs away , time after time ( 7 ) the general refuses to try electricity and would n't listen ( 8) the acting is awful ( 9 ) did i mention the rubber suit monster xxrep 4 ? ( 10 ) that god - awful music , non - stop !,xxbos xxmaj when evaluating documentaries that focus a relatively small group of xxmaj ugly ultra right wing and conservative groups like this in the xxup usa you must consider the following . xxmaj the xxmaj united xxmaj states of xxmaj america with its population of 270 million and its complex history as an aspiring democracy and its hopes and desires to uphold xxmaj human xxmaj rights that it has its failings and downside . xxmaj it is of course expected that extreme right wing groups and ultra xxunk groups exist in sizable numbers however relative to the size of its population they are very small and isolated . xxmaj on a per xxunk basis xxmaj europe , xxmaj britain and even xxmaj australia have similar right wing groups in fact on a per - xxunk basis the actual size of xxmaj neo - xxmaj nazi groups in xxmaj australia is actually higher than in the xxmaj united xxmaj states of xxmaj america . xxmaj it is for the above reasons that it is xxunk to demean and vilify the xxmaj american people and their level of debate in xxmaj educated xxmaj american xxmaj society by very xxunk and deceptively presenting this ultra - right wing bunch of psychopaths as being representative of xxmaj american xxmaj society . xxmaj by doing so xxmaj greenstreet , deliberately chose small and isolated groups at opposite ends of the spectrum to construct an image of xxmaj america that is an outrageous and deliberate sensationalist lie . xxmaj this film is clearly designed to xxunk and pander to the views of people who harbor this subconscious and morbid hate the xxmaj american people and way of life under the guise of xxunk fashionable and cliché idealist left wing ideology . xxmaj this film was made for profit not for furthering the truth about xxmaj american xxmaj society and the xxmaj human condition . xxmaj greenstreet can make documentaries that focus on ultra right wing conspiracies , the xxmaj military xxmaj industrial complex but fail miserably to present an intelligent and balanced factual debate let alone alternative solutions to the failings of a vibrant democracy . xxmaj movie xxmaj show is exposed as xxmaj anti xxmaj american by its support for this trash . xxup sensationalism at its worst anti xxup xxunk garbage shameful .,xxbos xxmaj you 'll notice by the stars i 've given this xxup great film that ' ... before you see it the first time , ' is implied . i had never before heard of this film and happened across it just because this week ( and last ) was a very slow rental experience ( not much great coming in ) . i 'm not sure how this movie slipped past me xxup -i love xxmaj lucy xxmaj liu and xxmaj jeremy xxmaj northam is great too . xxmaj still , it did . xxmaj this movie is an awesome example of what to do if you do n't have a large budget . xxmaj it had just the right amount of plot and dialog to make it very interesting and keep the viewer in the dark ; just enough . xxmaj the entire film is you ( the viewer ) trying to figure out the plots many twists and turns . i would have given this film 10 / 10 , however some of the shots were pretty fake looking . i do n't hold that against this film too much , but i do n't think it deserves a perfect score . xxmaj lucy xxmaj liu is beautiful and mysterious ( as always ) . i think she 's pretty underrated as a serious talent . xxmaj nevermind her beauty ( which is difficult ) , she really takes her roles seriously and does n't rest on her appearance to drive her through scenes of sophisticated emotion . xxmaj and she can seem cold and even lifeless if needed , as well . xxmaj jeremy xxmaj northam does really well , at first , as quite a geeky corporate rat , willing to run through any maze to prove himself . xxmaj however , as he changes throughout the film , it 's like night and day . i know some fans of xxmaj clive xxmaj owen , xxmaj jude xxmaj law , or other hopefuls to become the next xxmaj james xxmaj bond will hate me for this , but xxmaj northam would / could / should fit that bill . xxmaj he 's suave and cultured . xxmaj he 's got a great xxmaj bond posture and voice . i think he too can be cold if the situation calls for it , and rather down - to - xxmaj earth , as well . xxmaj great film and definitely this movie - buff recommends it to be seen at least once if you like corporate espionage films .,xxbos xxmaj carl xxmaj panzram lived an amazing life and xxunk down his memoirs on scraps of paper for possibly the only person who ever did anything selfless for him . xxmaj the book \" xxmaj panzram : a xxmaj journal of xxmaj murder \" by xxmaj thomas xxup e. xxmaj xxunk and xxmaj james xxup o. xxmaj long , which came out the better part of a century after xxmaj panzram 's death , gives the historical context to a first - generation xxmaj american 's account of running away from home to go west and be a cowboy , getting caught , thrown in the boy 's home , getting away repeatedly and thrown into prison over and over all the time getting tortured and sodomized . xxmaj as xxmaj panzram grew huge and strong , he sought to take revenge for the wrong done to him as he traveled to xxmaj south xxmaj america , xxmaj europe and xxmaj africa , and it did n't matter what people he raped , robbed , or murdered because we are all equally worthless . xxmaj this film casts skinny xxmaj james xxmaj woods as the rough neck , mean - ass , son of a bitch xxmaj carl xxmaj panzram who in the film is a \" drunk \" , overly - dramatic and emotional , and who never mentions the joy of xxunk men and boys . xxmaj the film neither elaborates on anything else particularly of note about this world traveler and career prisoner ( like robbing former xxmaj president xxmaj taft or being released from the xxmaj oregon prison as long as he gave his word to return ) . xxmaj in short , i do n't think xxmaj carl would be too happy .,xxbos i had high hopes for this movie , because i enjoyed the book so much . xxmaj however , i do n't think i would have understood the premise of the movie if i had n't already read the book . xxmaj the movie is a noble attempt to show the despair of people trying to break the bonds of overpowering government rule , but the book portrays the suffering much more thoroughly . xxmaj the corrupt government officials have comfortable , almost luxurious lives , while the common people struggle to obtain the bare necessities for survival . xxmaj perhaps most people feel this way toward their leaders and rulers regardless of whether or not they are actually oppressed or repressed . xxmaj orwell 's dystopia seems as if it could exist in many places in our modern world . xxmaj it has been several years since i 've read the book , but one hears references to xxmaj big xxmaj brother , the xxmaj thought xxmaj police , and xxmaj xxunk frequently in the media and casual conversation . xxmaj probably many people using these terms do n't realize where the terms came from . i strongly recommend that you read the book .\n",
              "y: CategoryList\n",
              "negative,negative,positive,negative,negative\n",
              "Path: /content/drive/My Drive/DATA-475/imdb;\n",
              "\n",
              "Test: LabelList (25000 items)\n",
              "x: TextList\n",
              "xxbos i went and saw this movie last night after being coaxed to by a few friends of mine . i 'll admit that i was reluctant to see it because from what i knew of xxmaj ashton xxmaj kutcher he was only able to do comedy . i was wrong . xxmaj kutcher played the character of xxmaj jake xxmaj fischer very well , and xxmaj kevin xxmaj costner played xxmaj ben xxmaj randall with such professionalism . xxmaj the sign of a good movie is that it can toy with our emotions . xxmaj this one did exactly that . xxmaj the entire theater ( which was sold out ) was overcome by laughter during the first half of the movie , and were moved to tears during the second half . xxmaj while exiting the theater i not only saw many women in tears , but many full grown men as well , trying desperately not to let anyone see them crying . xxmaj this movie was great , and i suggest that you go see it before you judge .,xxbos xxmaj actor turned director xxmaj bill xxmaj paxton follows up his promising debut , the xxmaj gothic - horror \" xxmaj frailty \" , with this family friendly sports drama about the 1913 xxup u.s. xxmaj open where a young xxmaj american caddy rises from his humble background to play against his xxmaj xxunk idol in what was dubbed as \" xxmaj the xxmaj greatest xxmaj game xxmaj ever xxmaj played . \" i 'm no fan of golf , and these scrappy underdog sports flicks are a dime a dozen ( most recently done to grand effect with \" xxmaj miracle \" and \" xxmaj cinderella xxmaj man \" ) , but some how this film was enthralling all the same . xxmaj the film starts with some creative opening credits ( imagine a xxmaj xxunk version of the animated opening credits of xxup hbo 's \" xxmaj carnivale \" and \" xxmaj rome \" ) , but xxunk along slowly for its first by - the - numbers hour . xxmaj once the action moves to the xxup u.s. xxmaj open things pick up very well . xxmaj paxton does a nice job and shows a knack for effective directorial flourishes ( i loved the rain - soaked montage of the action on day two of the open ) that propel the plot further or add some unexpected psychological depth to the proceedings . xxmaj there 's some compelling character development when the xxmaj british xxmaj harry xxmaj xxunk is haunted by images of the aristocrats in black suits and top hats who destroyed his family cottage as a child to make way for a golf course . xxmaj he also does a good job of visually depicting what goes on in the players ' heads under pressure . xxmaj golf , a painfully boring sport , is brought vividly alive here . xxmaj credit should also be given the set designers and costume department for creating an engaging period - piece atmosphere of xxmaj london and xxmaj boston at the beginning of the twentieth century . xxmaj you know how this is going to end not only because it 's based on a true story but also because films in this genre follow the same template over and over , but xxmaj paxton puts on a better than average show and perhaps indicates more talent behind the camera than he ever had in front of it . xxmaj despite the formulaic nature , this is a nice and easy film to root for that deserves to find an audience .,xxbos xxmaj as a recreational golfer with some knowledge of the sport 's history , i was pleased with xxmaj disney 's sensitivity to the issues of class in golf in the early twentieth century . xxmaj the movie depicted well the psychological battles that xxmaj harry xxmaj xxunk fought within himself , from his childhood trauma of being evicted to his own inability to break that glass ceiling that prevents him from being accepted as an equal in xxmaj english golf society . xxmaj likewise , the young xxmaj xxunk goes through his own class struggles , being a mere xxunk in the eyes of the upper crust xxmaj americans who scoff at his attempts to rise above his standing . xxmaj what i loved best , however , is how this theme of class is manifested in the characters of xxmaj xxunk 's parents . xxmaj his father is a working - class drone who sees the value of hard work but is intimidated by the upper class ; his mother , however , recognizes her son 's talent and desire and encourages him to pursue his dream of competing against those who think he is inferior . xxmaj finally , the golf scenes are well photographed . xxmaj although the course used in the movie was not the actual site of the historical tournament , the little liberties taken by xxmaj disney do not detract from the beauty of the film . xxmaj there 's one little xxmaj disney moment at the pool table ; otherwise , the viewer does not really think xxmaj disney . xxmaj the ending , as in \" xxmaj miracle , \" is not some xxmaj disney creation , but one that only human history could have written .,xxbos i saw this film in a sneak preview , and it is delightful . xxmaj the cinematography is unusually creative , the acting is good , and the story is fabulous . xxmaj if this movie does not do well , it wo n't be because it does n't deserve to . xxmaj before this film , i did n't realize how charming xxmaj shia xxmaj xxunk could be . xxmaj he does a marvelous , self - contained , job as the lead . xxmaj there 's something incredibly sweet about him , and it makes the movie even better . xxmaj the other actors do a good job as well , and the film contains moments of really high suspense , more than one might expect from a movie about golf . xxmaj sports movies are a dime a dozen , but this one stands out . xxmaj this is one i 'd recommend to anyone .,xxbos xxmaj bill xxmaj paxton has taken the true story of the 1913 xxup us golf open and made a film that is about much more than an extra - ordinary game of golf . xxmaj the film also deals directly with the class tensions of the early twentieth century and touches upon the profound anti - xxmaj catholic prejudices of both the xxmaj british and xxmaj american establishments . xxmaj but at heart the film is about that perennial favourite of triumph against the odds . xxmaj the acting is exemplary throughout . xxmaj stephen xxmaj xxunk is excellent as usual , but the revelation of the movie is xxmaj shia xxunk who delivers a disciplined , dignified and highly sympathetic performance as a working class xxmaj franco - xxmaj irish kid fighting his way through the prejudices of the xxmaj new xxmaj england xxup wasp establishment . xxmaj for those who are only familiar with his slap - stick performances in \" xxmaj even xxmaj stevens \" this demonstration of his maturity is a delightful surprise . xxmaj and xxmaj josh xxmaj flitter as the ten year old caddy threatens to steal every scene in which he appears . a old fashioned movie in the best sense of the word : fine acting , clear directing and a great story that grips to the end - the final scene an affectionate nod to xxmaj casablanca is just one of the many pleasures that fill a great movie .\n",
              "y: EmptyLabelList\n",
              ",,,,\n",
              "Path: /content/drive/My Drive/DATA-475/imdb, model=SequentialRNN(\n",
              "  (0): MultiBatchEncoder(\n",
              "    (module): AWD_LSTM(\n",
              "      (encoder): Embedding(44096, 400, padding_idx=1)\n",
              "      (encoder_dp): EmbeddingDropout(\n",
              "        (emb): Embedding(44096, 400, padding_idx=1)\n",
              "      )\n",
              "      (rnns): ModuleList(\n",
              "        (0): WeightDropout(\n",
              "          (module): LSTM(400, 1152, batch_first=True)\n",
              "        )\n",
              "        (1): WeightDropout(\n",
              "          (module): LSTM(1152, 1152, batch_first=True)\n",
              "        )\n",
              "        (2): WeightDropout(\n",
              "          (module): LSTM(1152, 400, batch_first=True)\n",
              "        )\n",
              "      )\n",
              "      (input_dp): RNNDropout()\n",
              "      (hidden_dps): ModuleList(\n",
              "        (0): RNNDropout()\n",
              "        (1): RNNDropout()\n",
              "        (2): RNNDropout()\n",
              "      )\n",
              "    )\n",
              "  )\n",
              "  (1): PoolingLinearClassifier(\n",
              "    (layers): Sequential(\n",
              "      (0): BatchNorm1d(1200, eps=1e-05, momentum=0.1, affine=True, track_running_stats=True)\n",
              "      (1): Dropout(p=0.2, inplace=False)\n",
              "      (2): Linear(in_features=1200, out_features=50, bias=True)\n",
              "      (3): ReLU(inplace=True)\n",
              "      (4): BatchNorm1d(50, eps=1e-05, momentum=0.1, affine=True, track_running_stats=True)\n",
              "      (5): Dropout(p=0.1, inplace=False)\n",
              "      (6): Linear(in_features=50, out_features=2, bias=True)\n",
              "    )\n",
              "  )\n",
              "), opt_func=functools.partial(<class 'torch.optim.adam.Adam'>, betas=(0.9, 0.99)), loss_func=FlattenedLoss of CrossEntropyLoss(), metrics=[<function accuracy at 0x7fdf76e0a378>], true_wd=True, bn_wd=True, wd=0.01, train_bn=True, path=PosixPath('/content/drive/My Drive/DATA-475/imdb'), model_dir='models', callback_fns=[functools.partial(<class 'fastai.basic_train.Recorder'>, add_time=True, silent=False)], callbacks=[RNNTrainer\n",
              "learn: RNNLearner(data=TextClasDataBunch;\n",
              "\n",
              "Train: LabelList (19999 items)\n",
              "x: TextList\n",
              "xxbos i mistakenly kept myself awake late last night watching this thing . xxmaj about the only thing i could say good about this horrid film is that it could be used by film schools to show how not to make a movie . xxmaj no proper character development , wait , i 'm not even sure they were characters . xxmaj set - ups were hokey and inane , and the overuse of split screens was wasted since sometimes they could n't even synchronize with alternate shots . xxmaj if i could give this a zero or minus rating i would . xxmaj sadly , it is n't even worth the time for a few laughs . xxmaj it 's just a sad example of money wasted by xxmaj hollywood , and now i waste my time even thinking about it .,xxbos i watched this film without knowing anything about it whatsoever and found it similar thematically to xxmaj billy xxmaj elliott ( 2000 ) . xxmaj both films are based around a troubled father / son relationship . xxmaj in both films , the son does not want to follow his father down the mines and dreams of a better life away from their home town . xxmaj both sons face derision by their classmates and both have a strong female role model who teaches them . xxmaj the major difference that i found between the films was that xxmaj october xxmaj sky was an infinitely more interesting and touching film . xxmaj laura xxmaj dern puts in a moving performance and xxmaj chris xxmaj cooper plays the disapproving father very well as he went on to do in xxmaj american xxmaj beauty ( 1999 ) . xxmaj joe xxmaj johnston surprised me with his subtle directing , very different from his other directorial features such as xxmaj jumanji ( 1995 ) and xxmaj jurassic xxmaj park xxup iii ( 2001 ) .,xxbos xxmaj this has to be one of the worst movies of all time . xxmaj the graphics were horrendous , the acting was b - movie and the effects were just plain xxmaj nintendo 64 qualified . xxmaj you would think that they would put a little more effort into it . xxmaj of course , it is a xxmaj scifi channel movie so you have to expect it to be low rate , but this one takes the cake . xxmaj hell , i 'm still laughing . xxmaj so , as a shake - your - head in disbelief movie , this one does well . xxmaj although it appears to have some ' known ' actors and actresses in this , it is difficult for me to believe that they did not realize that the quality of this movie was worth their time and effort . xxmaj the graphics might have been good in the ' 60 's or even early ' 70 's but come on , this is 2009 ! i wo nt give spoilers out , let 's just say that if you have played \" xxmaj jurassic xxmaj park \" on the xxmaj nintendo 64 you will be very familiar with what you see in this xxunk is definitely not worth the 2 hours it took to sit through the thing,xxbos xxmaj avoid this one , unless you want to watch an expensive but badly made movie . xxmaj example ? xxmaj the sound is good but the dialogue is not clear - a cardinal sin in a xxmaj french film . xxmaj this film attempts to combine western , drug intrigue and xxunk regime costume epic . xxmaj what ? xxmaj well , consider this . xxmaj the cowboy music is hilarious during sword fights . xxmaj or how about the woman in her underwear , holding a knife and jumping up and down on the xxunk should do a ' xxmaj what 's xxmaj up xxmaj tiger xxmaj lily ' on this bomb . xxmaj rewrite the script and then either dub or subtitle it . xxmaj heck , it 's almost that now . ( xxup btw , xxmaj gerard xxmaj depardieu and xxmaj carole xxmaj bouquet , both known to xxmaj american audiences , have roles . ),xxbos xxmaj this movie fails to offer anything new to a genre that has traditionally shown the cross cultural love story underpinned by the politics mid 20th century / pre - xxup wwii xxmaj india , where the xxmaj british and their modern ways are bad and the primitive but honest and true xxmaj indians are good . xxmaj surely such clichéd depictions of the xxmaj british are rather passé now . xxmaj apart from the drama that fuels the second part of the movie the narrative is predictable , the acting is pedestrian and two - dimensional , and the directing obvious and unimaginative . xxmaj the story really needed to be fleshed out and would certainly have benefited from another half an hour of screen time to give the characters and narrative more depth and give the viewer something to feel some investment in . xxmaj all in all , rather uninspiring . xxmaj oh and xxmaj linus xxmaj xxunk just can not do tragedy - going cross - eyed with emotional pain just does n't work for me !\n",
              "y: CategoryList\n",
              "negative,positive,negative,negative,negative\n",
              "Path: /content/drive/My Drive/DATA-475/imdb;\n",
              "\n",
              "Valid: LabelList (5001 items)\n",
              "x: TextList\n",
              "xxbos xxmaj now , i flicked onto this just out of curiosity and had to keep watching - in the same way that you watch a car crash ... i appreciate the fact it 's a spoof , but that should not stop me from criticising the god - awful directing , acting and dialogue . xxmaj seriously , this rated as one of the poorest movies i have seen - it looked more like an episode of xxmaj tales from the xxmaj cryptkeeper , and a poor one at that ... xxmaj okay - a few criticisms ( 1 ) when the doctor had his heart attack in front of the monster ( we never see the monster attack him , so we assume its a heart attack ) , the army then launch shells , rockets , bullets at the monster - which was feet from the doctor - yet the doctor is not touched by any missile and is still alive ( 2 ) the army attack from about 100 yards away , and we see a flame - thrower being used - geez , those things have a range of no more than 30 xxunk ! ( 3 ) when the monster tries to take the professor , the soldiers run into the classroom and fire into the ceiling ; the monster drops the kid , and the soldiers do n't try to shoot the monster ? ? ? come on ! ( 4 ) the monster looks like it something out of xxmaj power xxmaj rangers ! ( 5 ) there is one scene where the five \" good guys \" ( the priest , the girl , the doctor , the reporter and the kid ) all look shocked and we get reactions ( along the lines of hand to mouth ) one after the other - so natural ! ( 6 ) the general just runs away , time after time ( 7 ) the general refuses to try electricity and would n't listen ( 8) the acting is awful ( 9 ) did i mention the rubber suit monster xxrep 4 ? ( 10 ) that god - awful music , non - stop !,xxbos xxmaj when evaluating documentaries that focus a relatively small group of xxmaj ugly ultra right wing and conservative groups like this in the xxup usa you must consider the following . xxmaj the xxmaj united xxmaj states of xxmaj america with its population of 270 million and its complex history as an aspiring democracy and its hopes and desires to uphold xxmaj human xxmaj rights that it has its failings and downside . xxmaj it is of course expected that extreme right wing groups and ultra xxunk groups exist in sizable numbers however relative to the size of its population they are very small and isolated . xxmaj on a per xxunk basis xxmaj europe , xxmaj britain and even xxmaj australia have similar right wing groups in fact on a per - xxunk basis the actual size of xxmaj neo - xxmaj nazi groups in xxmaj australia is actually higher than in the xxmaj united xxmaj states of xxmaj america . xxmaj it is for the above reasons that it is xxunk to demean and vilify the xxmaj american people and their level of debate in xxmaj educated xxmaj american xxmaj society by very xxunk and deceptively presenting this ultra - right wing bunch of psychopaths as being representative of xxmaj american xxmaj society . xxmaj by doing so xxmaj greenstreet , deliberately chose small and isolated groups at opposite ends of the spectrum to construct an image of xxmaj america that is an outrageous and deliberate sensationalist lie . xxmaj this film is clearly designed to xxunk and pander to the views of people who harbor this subconscious and morbid hate the xxmaj american people and way of life under the guise of xxunk fashionable and cliché idealist left wing ideology . xxmaj this film was made for profit not for furthering the truth about xxmaj american xxmaj society and the xxmaj human condition . xxmaj greenstreet can make documentaries that focus on ultra right wing conspiracies , the xxmaj military xxmaj industrial complex but fail miserably to present an intelligent and balanced factual debate let alone alternative solutions to the failings of a vibrant democracy . xxmaj movie xxmaj show is exposed as xxmaj anti xxmaj american by its support for this trash . xxup sensationalism at its worst anti xxup xxunk garbage shameful .,xxbos xxmaj you 'll notice by the stars i 've given this xxup great film that ' ... before you see it the first time , ' is implied . i had never before heard of this film and happened across it just because this week ( and last ) was a very slow rental experience ( not much great coming in ) . i 'm not sure how this movie slipped past me xxup -i love xxmaj lucy xxmaj liu and xxmaj jeremy xxmaj northam is great too . xxmaj still , it did . xxmaj this movie is an awesome example of what to do if you do n't have a large budget . xxmaj it had just the right amount of plot and dialog to make it very interesting and keep the viewer in the dark ; just enough . xxmaj the entire film is you ( the viewer ) trying to figure out the plots many twists and turns . i would have given this film 10 / 10 , however some of the shots were pretty fake looking . i do n't hold that against this film too much , but i do n't think it deserves a perfect score . xxmaj lucy xxmaj liu is beautiful and mysterious ( as always ) . i think she 's pretty underrated as a serious talent . xxmaj nevermind her beauty ( which is difficult ) , she really takes her roles seriously and does n't rest on her appearance to drive her through scenes of sophisticated emotion . xxmaj and she can seem cold and even lifeless if needed , as well . xxmaj jeremy xxmaj northam does really well , at first , as quite a geeky corporate rat , willing to run through any maze to prove himself . xxmaj however , as he changes throughout the film , it 's like night and day . i know some fans of xxmaj clive xxmaj owen , xxmaj jude xxmaj law , or other hopefuls to become the next xxmaj james xxmaj bond will hate me for this , but xxmaj northam would / could / should fit that bill . xxmaj he 's suave and cultured . xxmaj he 's got a great xxmaj bond posture and voice . i think he too can be cold if the situation calls for it , and rather down - to - xxmaj earth , as well . xxmaj great film and definitely this movie - buff recommends it to be seen at least once if you like corporate espionage films .,xxbos xxmaj carl xxmaj panzram lived an amazing life and xxunk down his memoirs on scraps of paper for possibly the only person who ever did anything selfless for him . xxmaj the book \" xxmaj panzram : a xxmaj journal of xxmaj murder \" by xxmaj thomas xxup e. xxmaj xxunk and xxmaj james xxup o. xxmaj long , which came out the better part of a century after xxmaj panzram 's death , gives the historical context to a first - generation xxmaj american 's account of running away from home to go west and be a cowboy , getting caught , thrown in the boy 's home , getting away repeatedly and thrown into prison over and over all the time getting tortured and sodomized . xxmaj as xxmaj panzram grew huge and strong , he sought to take revenge for the wrong done to him as he traveled to xxmaj south xxmaj america , xxmaj europe and xxmaj africa , and it did n't matter what people he raped , robbed , or murdered because we are all equally worthless . xxmaj this film casts skinny xxmaj james xxmaj woods as the rough neck , mean - ass , son of a bitch xxmaj carl xxmaj panzram who in the film is a \" drunk \" , overly - dramatic and emotional , and who never mentions the joy of xxunk men and boys . xxmaj the film neither elaborates on anything else particularly of note about this world traveler and career prisoner ( like robbing former xxmaj president xxmaj taft or being released from the xxmaj oregon prison as long as he gave his word to return ) . xxmaj in short , i do n't think xxmaj carl would be too happy .,xxbos i had high hopes for this movie , because i enjoyed the book so much . xxmaj however , i do n't think i would have understood the premise of the movie if i had n't already read the book . xxmaj the movie is a noble attempt to show the despair of people trying to break the bonds of overpowering government rule , but the book portrays the suffering much more thoroughly . xxmaj the corrupt government officials have comfortable , almost luxurious lives , while the common people struggle to obtain the bare necessities for survival . xxmaj perhaps most people feel this way toward their leaders and rulers regardless of whether or not they are actually oppressed or repressed . xxmaj orwell 's dystopia seems as if it could exist in many places in our modern world . xxmaj it has been several years since i 've read the book , but one hears references to xxmaj big xxmaj brother , the xxmaj thought xxmaj police , and xxmaj xxunk frequently in the media and casual conversation . xxmaj probably many people using these terms do n't realize where the terms came from . i strongly recommend that you read the book .\n",
              "y: CategoryList\n",
              "negative,negative,positive,negative,negative\n",
              "Path: /content/drive/My Drive/DATA-475/imdb;\n",
              "\n",
              "Test: LabelList (25000 items)\n",
              "x: TextList\n",
              "xxbos i went and saw this movie last night after being coaxed to by a few friends of mine . i 'll admit that i was reluctant to see it because from what i knew of xxmaj ashton xxmaj kutcher he was only able to do comedy . i was wrong . xxmaj kutcher played the character of xxmaj jake xxmaj fischer very well , and xxmaj kevin xxmaj costner played xxmaj ben xxmaj randall with such professionalism . xxmaj the sign of a good movie is that it can toy with our emotions . xxmaj this one did exactly that . xxmaj the entire theater ( which was sold out ) was overcome by laughter during the first half of the movie , and were moved to tears during the second half . xxmaj while exiting the theater i not only saw many women in tears , but many full grown men as well , trying desperately not to let anyone see them crying . xxmaj this movie was great , and i suggest that you go see it before you judge .,xxbos xxmaj actor turned director xxmaj bill xxmaj paxton follows up his promising debut , the xxmaj gothic - horror \" xxmaj frailty \" , with this family friendly sports drama about the 1913 xxup u.s. xxmaj open where a young xxmaj american caddy rises from his humble background to play against his xxmaj xxunk idol in what was dubbed as \" xxmaj the xxmaj greatest xxmaj game xxmaj ever xxmaj played . \" i 'm no fan of golf , and these scrappy underdog sports flicks are a dime a dozen ( most recently done to grand effect with \" xxmaj miracle \" and \" xxmaj cinderella xxmaj man \" ) , but some how this film was enthralling all the same . xxmaj the film starts with some creative opening credits ( imagine a xxmaj xxunk version of the animated opening credits of xxup hbo 's \" xxmaj carnivale \" and \" xxmaj rome \" ) , but xxunk along slowly for its first by - the - numbers hour . xxmaj once the action moves to the xxup u.s. xxmaj open things pick up very well . xxmaj paxton does a nice job and shows a knack for effective directorial flourishes ( i loved the rain - soaked montage of the action on day two of the open ) that propel the plot further or add some unexpected psychological depth to the proceedings . xxmaj there 's some compelling character development when the xxmaj british xxmaj harry xxmaj xxunk is haunted by images of the aristocrats in black suits and top hats who destroyed his family cottage as a child to make way for a golf course . xxmaj he also does a good job of visually depicting what goes on in the players ' heads under pressure . xxmaj golf , a painfully boring sport , is brought vividly alive here . xxmaj credit should also be given the set designers and costume department for creating an engaging period - piece atmosphere of xxmaj london and xxmaj boston at the beginning of the twentieth century . xxmaj you know how this is going to end not only because it 's based on a true story but also because films in this genre follow the same template over and over , but xxmaj paxton puts on a better than average show and perhaps indicates more talent behind the camera than he ever had in front of it . xxmaj despite the formulaic nature , this is a nice and easy film to root for that deserves to find an audience .,xxbos xxmaj as a recreational golfer with some knowledge of the sport 's history , i was pleased with xxmaj disney 's sensitivity to the issues of class in golf in the early twentieth century . xxmaj the movie depicted well the psychological battles that xxmaj harry xxmaj xxunk fought within himself , from his childhood trauma of being evicted to his own inability to break that glass ceiling that prevents him from being accepted as an equal in xxmaj english golf society . xxmaj likewise , the young xxmaj xxunk goes through his own class struggles , being a mere xxunk in the eyes of the upper crust xxmaj americans who scoff at his attempts to rise above his standing . xxmaj what i loved best , however , is how this theme of class is manifested in the characters of xxmaj xxunk 's parents . xxmaj his father is a working - class drone who sees the value of hard work but is intimidated by the upper class ; his mother , however , recognizes her son 's talent and desire and encourages him to pursue his dream of competing against those who think he is inferior . xxmaj finally , the golf scenes are well photographed . xxmaj although the course used in the movie was not the actual site of the historical tournament , the little liberties taken by xxmaj disney do not detract from the beauty of the film . xxmaj there 's one little xxmaj disney moment at the pool table ; otherwise , the viewer does not really think xxmaj disney . xxmaj the ending , as in \" xxmaj miracle , \" is not some xxmaj disney creation , but one that only human history could have written .,xxbos i saw this film in a sneak preview , and it is delightful . xxmaj the cinematography is unusually creative , the acting is good , and the story is fabulous . xxmaj if this movie does not do well , it wo n't be because it does n't deserve to . xxmaj before this film , i did n't realize how charming xxmaj shia xxmaj xxunk could be . xxmaj he does a marvelous , self - contained , job as the lead . xxmaj there 's something incredibly sweet about him , and it makes the movie even better . xxmaj the other actors do a good job as well , and the film contains moments of really high suspense , more than one might expect from a movie about golf . xxmaj sports movies are a dime a dozen , but this one stands out . xxmaj this is one i 'd recommend to anyone .,xxbos xxmaj bill xxmaj paxton has taken the true story of the 1913 xxup us golf open and made a film that is about much more than an extra - ordinary game of golf . xxmaj the film also deals directly with the class tensions of the early twentieth century and touches upon the profound anti - xxmaj catholic prejudices of both the xxmaj british and xxmaj american establishments . xxmaj but at heart the film is about that perennial favourite of triumph against the odds . xxmaj the acting is exemplary throughout . xxmaj stephen xxmaj xxunk is excellent as usual , but the revelation of the movie is xxmaj shia xxunk who delivers a disciplined , dignified and highly sympathetic performance as a working class xxmaj franco - xxmaj irish kid fighting his way through the prejudices of the xxmaj new xxmaj england xxup wasp establishment . xxmaj for those who are only familiar with his slap - stick performances in \" xxmaj even xxmaj stevens \" this demonstration of his maturity is a delightful surprise . xxmaj and xxmaj josh xxmaj flitter as the ten year old caddy threatens to steal every scene in which he appears . a old fashioned movie in the best sense of the word : fine acting , clear directing and a great story that grips to the end - the final scene an affectionate nod to xxmaj casablanca is just one of the many pleasures that fill a great movie .\n",
              "y: EmptyLabelList\n",
              ",,,,\n",
              "Path: /content/drive/My Drive/DATA-475/imdb, model=SequentialRNN(\n",
              "  (0): MultiBatchEncoder(\n",
              "    (module): AWD_LSTM(\n",
              "      (encoder): Embedding(44096, 400, padding_idx=1)\n",
              "      (encoder_dp): EmbeddingDropout(\n",
              "        (emb): Embedding(44096, 400, padding_idx=1)\n",
              "      )\n",
              "      (rnns): ModuleList(\n",
              "        (0): WeightDropout(\n",
              "          (module): LSTM(400, 1152, batch_first=True)\n",
              "        )\n",
              "        (1): WeightDropout(\n",
              "          (module): LSTM(1152, 1152, batch_first=True)\n",
              "        )\n",
              "        (2): WeightDropout(\n",
              "          (module): LSTM(1152, 400, batch_first=True)\n",
              "        )\n",
              "      )\n",
              "      (input_dp): RNNDropout()\n",
              "      (hidden_dps): ModuleList(\n",
              "        (0): RNNDropout()\n",
              "        (1): RNNDropout()\n",
              "        (2): RNNDropout()\n",
              "      )\n",
              "    )\n",
              "  )\n",
              "  (1): PoolingLinearClassifier(\n",
              "    (layers): Sequential(\n",
              "      (0): BatchNorm1d(1200, eps=1e-05, momentum=0.1, affine=True, track_running_stats=True)\n",
              "      (1): Dropout(p=0.2, inplace=False)\n",
              "      (2): Linear(in_features=1200, out_features=50, bias=True)\n",
              "      (3): ReLU(inplace=True)\n",
              "      (4): BatchNorm1d(50, eps=1e-05, momentum=0.1, affine=True, track_running_stats=True)\n",
              "      (5): Dropout(p=0.1, inplace=False)\n",
              "      (6): Linear(in_features=50, out_features=2, bias=True)\n",
              "    )\n",
              "  )\n",
              "), opt_func=functools.partial(<class 'torch.optim.adam.Adam'>, betas=(0.9, 0.99)), loss_func=FlattenedLoss of CrossEntropyLoss(), metrics=[<function accuracy at 0x7fdf76e0a378>], true_wd=True, bn_wd=True, wd=0.01, train_bn=True, path=PosixPath('/content/drive/My Drive/DATA-475/imdb'), model_dir='models', callback_fns=[functools.partial(<class 'fastai.basic_train.Recorder'>, add_time=True, silent=False)], callbacks=[...], layer_groups=[Sequential(\n",
              "  (0): Embedding(44096, 400, padding_idx=1)\n",
              "  (1): EmbeddingDropout(\n",
              "    (emb): Embedding(44096, 400, padding_idx=1)\n",
              "  )\n",
              "), Sequential(\n",
              "  (0): WeightDropout(\n",
              "    (module): LSTM(400, 1152, batch_first=True)\n",
              "  )\n",
              "  (1): RNNDropout()\n",
              "), Sequential(\n",
              "  (0): WeightDropout(\n",
              "    (module): LSTM(1152, 1152, batch_first=True)\n",
              "  )\n",
              "  (1): RNNDropout()\n",
              "), Sequential(\n",
              "  (0): WeightDropout(\n",
              "    (module): LSTM(1152, 400, batch_first=True)\n",
              "  )\n",
              "  (1): RNNDropout()\n",
              "), Sequential(\n",
              "  (0): PoolingLinearClassifier(\n",
              "    (layers): Sequential(\n",
              "      (0): BatchNorm1d(1200, eps=1e-05, momentum=0.1, affine=True, track_running_stats=True)\n",
              "      (1): Dropout(p=0.2, inplace=False)\n",
              "      (2): Linear(in_features=1200, out_features=50, bias=True)\n",
              "      (3): ReLU(inplace=True)\n",
              "      (4): BatchNorm1d(50, eps=1e-05, momentum=0.1, affine=True, track_running_stats=True)\n",
              "      (5): Dropout(p=0.1, inplace=False)\n",
              "      (6): Linear(in_features=50, out_features=2, bias=True)\n",
              "    )\n",
              "  )\n",
              ")], add_time=True, silent=False)\n",
              "alpha: 2.0\n",
              "beta: 1.0], layer_groups=[Sequential(\n",
              "  (0): Embedding(44096, 400, padding_idx=1)\n",
              "  (1): EmbeddingDropout(\n",
              "    (emb): Embedding(44096, 400, padding_idx=1)\n",
              "  )\n",
              "), Sequential(\n",
              "  (0): WeightDropout(\n",
              "    (module): LSTM(400, 1152, batch_first=True)\n",
              "  )\n",
              "  (1): RNNDropout()\n",
              "), Sequential(\n",
              "  (0): WeightDropout(\n",
              "    (module): LSTM(1152, 1152, batch_first=True)\n",
              "  )\n",
              "  (1): RNNDropout()\n",
              "), Sequential(\n",
              "  (0): WeightDropout(\n",
              "    (module): LSTM(1152, 400, batch_first=True)\n",
              "  )\n",
              "  (1): RNNDropout()\n",
              "), Sequential(\n",
              "  (0): PoolingLinearClassifier(\n",
              "    (layers): Sequential(\n",
              "      (0): BatchNorm1d(1200, eps=1e-05, momentum=0.1, affine=True, track_running_stats=True)\n",
              "      (1): Dropout(p=0.2, inplace=False)\n",
              "      (2): Linear(in_features=1200, out_features=50, bias=True)\n",
              "      (3): ReLU(inplace=True)\n",
              "      (4): BatchNorm1d(50, eps=1e-05, momentum=0.1, affine=True, track_running_stats=True)\n",
              "      (5): Dropout(p=0.1, inplace=False)\n",
              "      (6): Linear(in_features=50, out_features=2, bias=True)\n",
              "    )\n",
              "  )\n",
              ")], add_time=True, silent=False)"
            ]
          },
          "metadata": {
            "tags": []
          },
          "execution_count": 10
        }
      ]
    },
    {
      "cell_type": "code",
      "metadata": {
        "id": "mLL6cVkhOmT4",
        "colab_type": "code",
        "colab": {
          "base_uri": "https://localhost:8080/",
          "height": 409
        },
        "outputId": "41addfa3-ddd2-4abe-d3e6-d9ffe32b21e4"
      },
      "source": [
        "# tune the text_classifier_learner to accpetable accuracy (>80%)\n",
        "clas_learner.lr_find()\n",
        "clas_learner.recorder.plot(suggestion=True)"
      ],
      "execution_count": 11,
      "outputs": [
        {
          "output_type": "display_data",
          "data": {
            "text/html": [
              "\n",
              "    <div>\n",
              "        <style>\n",
              "            /* Turns off some styling */\n",
              "            progress {\n",
              "                /* gets rid of default border in Firefox and Opera. */\n",
              "                border: none;\n",
              "                /* Needs to be in here for Safari polyfill so background images work as expected. */\n",
              "                background-size: auto;\n",
              "            }\n",
              "            .progress-bar-interrupted, .progress-bar-interrupted::-webkit-progress-bar {\n",
              "                background: #F44336;\n",
              "            }\n",
              "        </style>\n",
              "      <progress value='0' class='' max='1' style='width:300px; height:20px; vertical-align: middle;'></progress>\n",
              "      0.00% [0/1 00:00<00:00]\n",
              "    </div>\n",
              "    \n",
              "<table border=\"1\" class=\"dataframe\">\n",
              "  <thead>\n",
              "    <tr style=\"text-align: left;\">\n",
              "      <th>epoch</th>\n",
              "      <th>train_loss</th>\n",
              "      <th>valid_loss</th>\n",
              "      <th>accuracy</th>\n",
              "      <th>time</th>\n",
              "    </tr>\n",
              "  </thead>\n",
              "  <tbody>\n",
              "  </tbody>\n",
              "</table><p>\n",
              "\n",
              "    <div>\n",
              "        <style>\n",
              "            /* Turns off some styling */\n",
              "            progress {\n",
              "                /* gets rid of default border in Firefox and Opera. */\n",
              "                border: none;\n",
              "                /* Needs to be in here for Safari polyfill so background images work as expected. */\n",
              "                background-size: auto;\n",
              "            }\n",
              "            .progress-bar-interrupted, .progress-bar-interrupted::-webkit-progress-bar {\n",
              "                background: #F44336;\n",
              "            }\n",
              "        </style>\n",
              "      <progress value='94' class='' max='624' style='width:300px; height:20px; vertical-align: middle;'></progress>\n",
              "      15.06% [94/624 00:14<01:20 1.6679]\n",
              "    </div>\n",
              "    "
            ],
            "text/plain": [
              "<IPython.core.display.HTML object>"
            ]
          },
          "metadata": {
            "tags": []
          }
        },
        {
          "output_type": "stream",
          "text": [
            "LR Finder is complete, type {learner_name}.recorder.plot() to see the graph.\n",
            "Min numerical gradient: 4.37E-03\n",
            "Min loss divided by 10: 1.74E-02\n"
          ],
          "name": "stdout"
        },
        {
          "output_type": "display_data",
          "data": {
            "image/png": "[encoded data removed]",
            "text/plain": [
              "<Figure size 432x288 with 1 Axes>"
            ]
          },
          "metadata": {
            "tags": [],
            "needs_background": "light"
          }
        }
      ]
    },
    {
      "cell_type": "code",
      "metadata": {
        "id": "DLmhFP7iAVlt",
        "colab_type": "code",
        "colab": {
          "base_uri": "https://localhost:8080/",
          "height": 171
        },
        "outputId": "b781dd3b-4720-4065-ea6d-949594ca5879"
      },
      "source": [
        "lr = clas_learner.recorder.min_grad_lr\n",
        "clas_learner.fit_one_cycle(4, lr)"
      ],
      "execution_count": 12,
      "outputs": [
        {
          "output_type": "display_data",
          "data": {
            "text/html": [
              "<table border=\"1\" class=\"dataframe\">\n",
              "  <thead>\n",
              "    <tr style=\"text-align: left;\">\n",
              "      <th>epoch</th>\n",
              "      <th>train_loss</th>\n",
              "      <th>valid_loss</th>\n",
              "      <th>accuracy</th>\n",
              "      <th>time</th>\n",
              "    </tr>\n",
              "  </thead>\n",
              "  <tbody>\n",
              "    <tr>\n",
              "      <td>0</td>\n",
              "      <td>0.493652</td>\n",
              "      <td>0.421263</td>\n",
              "      <td>0.807438</td>\n",
              "      <td>01:40</td>\n",
              "    </tr>\n",
              "    <tr>\n",
              "      <td>1</td>\n",
              "      <td>0.463819</td>\n",
              "      <td>0.384241</td>\n",
              "      <td>0.834433</td>\n",
              "      <td>01:36</td>\n",
              "    </tr>\n",
              "    <tr>\n",
              "      <td>2</td>\n",
              "      <td>0.429202</td>\n",
              "      <td>0.365563</td>\n",
              "      <td>0.840032</td>\n",
              "      <td>01:37</td>\n",
              "    </tr>\n",
              "    <tr>\n",
              "      <td>3</td>\n",
              "      <td>0.431459</td>\n",
              "      <td>0.361840</td>\n",
              "      <td>0.843431</td>\n",
              "      <td>01:36</td>\n",
              "    </tr>\n",
              "  </tbody>\n",
              "</table>"
            ],
            "text/plain": [
              "<IPython.core.display.HTML object>"
            ]
          },
          "metadata": {
            "tags": []
          }
        }
      ]
    },
    {
      "cell_type": "code",
      "metadata": {
        "id": "6VHA0eRISBbF",
        "colab_type": "code",
        "colab": {
          "base_uri": "https://localhost:8080/",
          "height": 121
        },
        "outputId": "4e8fc6ad-5021-4129-e461-a2d88ff0c205"
      },
      "source": [
        "clas_learner.predict(\"This is a horrible movie.\")"
      ],
      "execution_count": 13,
      "outputs": [
        {
          "output_type": "stream",
          "text": [
            "/usr/local/lib/python3.6/dist-packages/fastai/text/data.py:339: UserWarning: This overload of nonzero is deprecated:\n",
            "\tnonzero()\n",
            "Consider using one of the following signatures instead:\n",
            "\tnonzero(*, bool as_tuple) (Triggered internally at  /pytorch/torch/csrc/utils/python_arg_parser.cpp:766.)\n",
            "  idx_min = (t != self.pad_idx).nonzero().min()\n"
          ],
          "name": "stderr"
        },
        {
          "output_type": "execute_result",
          "data": {
            "text/plain": [
              "(Category tensor(1), tensor(1), tensor([0.2418, 0.7582]))"
            ]
          },
          "metadata": {
            "tags": []
          },
          "execution_count": 13
        }
      ]
    },
    {
      "cell_type": "code",
      "metadata": {
        "id": "CXgIKlWb-Q8D",
        "colab_type": "code",
        "colab": {
          "base_uri": "https://localhost:8080/",
          "height": 35
        },
        "outputId": "594a1366-c4ab-4e8e-9333-dfb39ea51007"
      },
      "source": [
        "clas_learner.predict(\"This is a great movie,\")"
      ],
      "execution_count": 14,
      "outputs": [
        {
          "output_type": "execute_result",
          "data": {
            "text/plain": [
              "(Category tensor(1), tensor(1), tensor([4.0065e-04, 9.9960e-01]))"
            ]
          },
          "metadata": {
            "tags": []
          },
          "execution_count": 14
        }
      ]
    },
    {
      "cell_type": "code",
      "metadata": {
        "id": "mazhyIrA-R0m",
        "colab_type": "code",
        "colab": {
          "base_uri": "https://localhost:8080/",
          "height": 35
        },
        "outputId": "20a9f2f0-2b2e-474c-93cc-337f305f83c0"
      },
      "source": [
        "# Check the label mapping\n",
        "# suppose it returns {'negative': 0, 'positive': 1}\n",
        "data_clas.train_ds.y.c2i"
      ],
      "execution_count": 15,
      "outputs": [
        {
          "output_type": "execute_result",
          "data": {
            "text/plain": [
              "{'negative': 0, 'positive': 1}"
            ]
          },
          "metadata": {
            "tags": []
          },
          "execution_count": 15
        }
      ]
    },
    {
      "cell_type": "code",
      "metadata": {
        "id": "-YRl2rhMPvuW",
        "colab_type": "code",
        "colab": {}
      },
      "source": [
        "import pandas as pd\n",
        "\n",
        "\n",
        "df = pd.read_csv(path+\"/test.csv\")\n",
        "y_true = tensor(df[\"sentiment\"]==\"positive\")"
      ],
      "execution_count": 16,
      "outputs": []
    },
    {
      "cell_type": "code",
      "metadata": {
        "id": "oRekyOZ-1qQ1",
        "colab_type": "code",
        "colab": {
          "base_uri": "https://localhost:8080/",
          "height": 311
        },
        "outputId": "61f90adf-7fc2-4764-9e49-02ab341916ef"
      },
      "source": [
        "interp = TextClassificationInterpretation.from_learner(\n",
        "    clas_learner, \n",
        "    ds_type=DatasetType.Test\n",
        ")\n",
        "interp.y_true = tensor(df[\"sentiment\"]==\"positive\")\n",
        "interp.plot_confusion_matrix()"
      ],
      "execution_count": 17,
      "outputs": [
        {
          "output_type": "display_data",
          "data": {
            "text/html": [
              ""
            ],
            "text/plain": [
              "<IPython.core.display.HTML object>"
            ]
          },
          "metadata": {
            "tags": []
          }
        },
        {
          "output_type": "display_data",
          "data": {
            "image/png": "[encoded data removed]",
            "text/plain": [
              "<Figure size 432x288 with 1 Axes>"
            ]
          },
          "metadata": {
            "tags": [],
            "needs_background": "light"
          }
        }
      ]
    },
    {
      "cell_type": "code",
      "metadata": {
        "id": "Ov9w-uNT8Ldd",
        "colab_type": "code",
        "colab": {
          "base_uri": "https://localhost:8080/",
          "height": 35
        },
        "outputId": "684c1121-8dde-4f1e-a0e6-441863c33908"
      },
      "source": [
        "from fastai.metrics import accuracy\n",
        "\n",
        "accuracy(interp.preds, interp.y_true)"
      ],
      "execution_count": 18,
      "outputs": [
        {
          "output_type": "execute_result",
          "data": {
            "text/plain": [
              "tensor(0.8440)"
            ]
          },
          "metadata": {
            "tags": []
          },
          "execution_count": 18
        }
      ]
    }
  ]
}